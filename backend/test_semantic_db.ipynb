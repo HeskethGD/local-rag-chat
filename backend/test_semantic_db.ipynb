{
 "cells": [
  {
   "cell_type": "markdown",
   "metadata": {},
   "source": [
    "# Testing the semantic_db functionality"
   ]
  },
  {
   "cell_type": "code",
   "execution_count": null,
   "metadata": {},
   "outputs": [
    {
     "name": "stdout",
     "output_type": "stream",
     "text": [
      "The autoreload extension is already loaded. To reload it, use:\n",
      "  %reload_ext autoreload\n"
     ]
    }
   ],
   "source": [
    "from app.semantic_db.semantic_db import SemanticDb\n",
    "import os\n",
    "from app.semantic_db.ollama_vecs import OllamaVecs\n",
    "from app.semantic_db.pdf_utils import get_pdf_bytes\n",
    "from dotenv import load_dotenv\n",
    "from time import time\n",
    "\n",
    "load_dotenv()\n",
    "\n",
    "%load_ext autoreload\n",
    "%autoreload 2"
   ]
  },
  {
   "cell_type": "code",
   "execution_count": null,
   "metadata": {},
   "outputs": [],
   "source": [
    "# from app.semantic_db.openai_vecs import OpenAIVecs\n",
    "# openai_api_key = os.getenv(\"OPENAI_API_KEY\")\n",
    "# openai_vecs = OpenAIVecs(api_key=openai_api_key)\n",
    "# semantic_db = SemanticDb(\n",
    "#     embedding_function=openai_vecs.get_embeddings,\n",
    "#     vec_dimension=openai_vecs.dimensions,\n",
    "#     semantic_db_path=\"test_db_semantic/\"\n",
    "# )\n"
   ]
  },
  {
   "cell_type": "code",
   "execution_count": 28,
   "metadata": {},
   "outputs": [],
   "source": [
    "def get_timestamp_id() -> str:\n",
    "    return str(int(time() * 1000000))\n",
    "\n",
    "file_path = \"/Users/grahamhesketh/mycode/local-rag-chat/backend/pdfs/290622-strategic-concept.pdf\"\n",
    "pdf_bytes = get_pdf_bytes(file_path)\n",
    "\n",
    "ollama_vecs = OllamaVecs()\n",
    "semantic_db = SemanticDb(\n",
    "    embedding_function=ollama_vecs.get_embeddings,\n",
    "    vec_dimension=ollama_vecs.dimensions,\n",
    "    semantic_db_path=\"test_db_semantic/\"\n",
    ")\n",
    "\n",
    "semantic_db.add_file_to_semantic_db(\n",
    "    doc_as_bytes=pdf_bytes,\n",
    "    file_name=file_path.split('/')[-1],\n",
    "    file_id=get_timestamp_id()\n",
    ")"
   ]
  },
  {
   "cell_type": "code",
   "execution_count": null,
   "metadata": {},
   "outputs": [],
   "source": []
  }
 ],
 "metadata": {
  "kernelspec": {
   "display_name": ".venv",
   "language": "python",
   "name": "python3"
  },
  "language_info": {
   "codemirror_mode": {
    "name": "ipython",
    "version": 3
   },
   "file_extension": ".py",
   "mimetype": "text/x-python",
   "name": "python",
   "nbconvert_exporter": "python",
   "pygments_lexer": "ipython3",
   "version": "3.13.0"
  }
 },
 "nbformat": 4,
 "nbformat_minor": 2
}
